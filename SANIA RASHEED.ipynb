{
 "cells": [
  {
   "cell_type": "markdown",
   "id": "4383bb3e",
   "metadata": {},
   "source": [
    "# My Resume"
   ]
  },
  {
   "cell_type": "markdown",
   "id": "33782aaa",
   "metadata": {},
   "source": [
    "### Staff Information\n",
    "- **Name**: Sania Rasheed\n",
    "- **Profession**: GIS Research Analyst\n",
    "- **Mobile No**: 03015313299\n",
    "- **Email**: [saniarasheed5566@gmail.com]\n",
    "- **CNIC**: 35201-5125437-4\n",
    "- **Nationality**: Pakistani"
   ]
  },
  {
   "cell_type": "markdown",
   "id": "187acfbd",
   "metadata": {},
   "source": [
    "### Key Qualifications\n",
    "I have a dynamic range of experience in Engineering Geology, Engineering Geophysics, GIS for Satellite Mapping and Remote Sensing, and 3D Conceptualization of hard to visualize problems. Moreover, I am also very proficient in using computer applications such as Res2Dinv Software for ERT, InterSism Seismic Refraction and Down-Hole Data Processing Software, gINT for Soil and Rock Logging, Civil3D, ArcGIS, AutoCAD along with Microsoft Office. "
   ]
  },
  {
   "cell_type": "markdown",
   "id": "e2a2ab88",
   "metadata": {},
   "source": [
    "### Education:\n",
    "| __Name Of Institution__ | __Year__ | __Degree__ |\n",
    "|---------------------|------|--------|\n",
    "| University Of The Punjab Lahore  | 2023-2025 | M.Phill GIS & Remote Sensing   |\n",
    "| University Of The Punjab Lahore    | 2016-2020 | BS Applied Geology    |"
   ]
  },
  {
   "cell_type": "markdown",
   "id": "1de674fd",
   "metadata": {},
   "source": [
    "### Employment Record \n",
    "Having 1.5 YEARS experience as a research associate in __The Urban Unit__ in the project of cadasteral mapping of state land of Punjab Province And KPK Master plan.Services still continue.\n"
   ]
  },
  {
   "cell_type": "markdown",
   "id": "fbd92b17",
   "metadata": {},
   "source": [
    "### Short Courses \n",
    "1. **Tectonics of Pakistan (1 Day Workshop)**\n",
    "   - Description: Workshop on the tectonic activities in Pakistan.\n",
    "   - Duration: 1 day\n",
    "2. **Introduction to Applications of Remote Sensing & GIS in Geology (4 Days Workshop)**\n",
    "   - Description: Workshop on utilizing remote sensing and GIS in geology.\n",
    "   - Duration: 4 days\n",
    "3. **Introduction to Sequence Stratigraphy & Well Logging (5 Days Workshop)**\n",
    "   - Description: Workshop on sequence stratigraphy and well logging.\n",
    "   - Duration: 5 days"
   ]
  },
  {
   "cell_type": "markdown",
   "id": "9a20df39",
   "metadata": {},
   "source": [
    "### Membership in Professional Societies\n",
    "\n",
    "- Member Society of Exploration Geophysicists (SEG)\n",
    "- Member Pakistan Association of Petroleum Geoscientists (PAPG)\n",
    "- Punjab Geological Society (PGS)"
   ]
  },
  {
   "cell_type": "markdown",
   "id": "698f84f2",
   "metadata": {},
   "source": [
    "### Computer Skills\n",
    "- Well aware of M.S Office\n",
    "- Proficient in Surfer\n",
    "- Experienced with Res2Dinv\n",
    "- Familiar with InterSism\n",
    "- Skilled in Coral Draw\n",
    "- Competent with ArcGIS\n",
    "- Proficient with AutoCAD\n",
    "\n",
    "### Languages\n",
    "- English\n",
    "- Urdu\n",
    "- Punjabi"
   ]
  }
 ],
 "metadata": {
  "kernelspec": {
   "display_name": "Python 3 (ipykernel)",
   "language": "python",
   "name": "python3"
  },
  "language_info": {
   "codemirror_mode": {
    "name": "ipython",
    "version": 3
   },
   "file_extension": ".py",
   "mimetype": "text/x-python",
   "name": "python",
   "nbconvert_exporter": "python",
   "pygments_lexer": "ipython3",
   "version": "3.11.5"
  }
 },
 "nbformat": 4,
 "nbformat_minor": 5
}
